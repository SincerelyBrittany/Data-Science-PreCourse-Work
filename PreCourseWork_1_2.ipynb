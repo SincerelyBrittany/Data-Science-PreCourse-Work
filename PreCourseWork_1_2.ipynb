{
  "nbformat": 4,
  "nbformat_minor": 0,
  "metadata": {
    "colab": {
      "name": "Brittany-Russell_1_2.ipynb",
      "provenance": [],
      "collapsed_sections": [],
      "include_colab_link": true
    },
    "kernelspec": {
      "name": "python3",
      "display_name": "Python 3"
    }
  },
  "cells": [
    {
      "cell_type": "markdown",
      "metadata": {
        "id": "view-in-github",
        "colab_type": "text"
      },
      "source": [
        "<a href=\"https://colab.research.google.com/github/SincerelyBrittany/Data-Science-PreCourse-Work/blob/master/PreCourseWork_1_2.ipynb\" target=\"_parent\"><img src=\"https://colab.research.google.com/assets/colab-badge.svg\" alt=\"Open In Colab\"/></a>"
      ]
    },
    {
      "cell_type": "markdown",
      "metadata": {
        "id": "ZvNsvUNNlZbi",
        "colab_type": "text"
      },
      "source": [
        "---\n",
        "# Lambda School Data Science - Intro to Python  \n",
        "---\n",
        "# 02 - Python Variables & Data Types\n",
        "---\n",
        "\n"
      ]
    },
    {
      "cell_type": "markdown",
      "metadata": {
        "colab_type": "text",
        "id": "61wMM1vnFoP6"
      },
      "source": [
        "##STOP! BEFORE GOING ANY FURTHER...  \n",
        "\n",
        "\n",
        "1. Click \"File\" at the top.\n",
        "2. Then, \"Save a Copy in Drive.\"\n",
        "3. Change the file name to \"FIRSTNAME_LASTNAME_1_2\"  \n",
        "\n",
        "Now you have a copy of this notebook in your Drive account. This is the copy you'll edit and submit. Be sure to do this for ***every*** assignment!\n",
        "\n"
      ]
    },
    {
      "cell_type": "markdown",
      "metadata": {
        "id": "y8HUQb0OOztX",
        "colab_type": "text"
      },
      "source": [
        "##STOP! BEFORE GOING ANY FURTHER...  \n",
        "\n",
        "\n",
        "1. Click \"File\" at the top.\n",
        "2. Then, \"Save a Copy in Drive.\"\n",
        "3. Change the file name to \"FIRSTNAME_LASTNAME_1_2\"  \n",
        "\n",
        "Now you have a copy of this notebook in your Drive account. This is the copy you'll edit and submit. Be sure to do this for ***every*** assignment!\n",
        "\n"
      ]
    },
    {
      "cell_type": "markdown",
      "metadata": {
        "id": "o57NvhYkBjKH",
        "colab_type": "text"
      },
      "source": [
        "## Part 1: Variables\n"
      ]
    },
    {
      "cell_type": "markdown",
      "metadata": {
        "id": "4haXpvn1QXW_",
        "colab_type": "text"
      },
      "source": [
        "### 1.1 Create three numerical variables (ints and/or floats) and add them together. At least one of your variables must hold a negative value."
      ]
    },
    {
      "cell_type": "code",
      "metadata": {
        "id": "PweN-CTws2EV",
        "colab_type": "code",
        "outputId": "c8f637bf-7533-4ad7-eb85-9a3534c651f2",
        "colab": {
          "base_uri": "https://localhost:8080/",
          "height": 34
        }
      },
      "source": [
        "x = 27\n",
        "y = 15.5\n",
        "z = -3\n",
        "\n",
        "x+y+z"
      ],
      "execution_count": 0,
      "outputs": [
        {
          "output_type": "execute_result",
          "data": {
            "text/plain": [
              "39.5"
            ]
          },
          "metadata": {
            "tags": []
          },
          "execution_count": 35
        }
      ]
    },
    {
      "cell_type": "markdown",
      "metadata": {
        "id": "QSk1zFf4Qbzk",
        "colab_type": "text"
      },
      "source": [
        "### 1.2 Write a sentence in five parts, assign each part to a variable, then concatenate them all together. Account for spacing!"
      ]
    },
    {
      "cell_type": "code",
      "metadata": {
        "id": "i-d3b4fqQe9z",
        "colab_type": "code",
        "outputId": "83d4f24b-d9f0-4be8-ff2e-4355657dd9cd",
        "colab": {
          "base_uri": "https://localhost:8080/",
          "height": 34
        }
      },
      "source": [
        "A = \"The \"\n",
        "B = \"cat \"\n",
        "C = \"in the \"\n",
        "D = \"hat \"\n",
        "E = \"story.\"\n",
        "\n",
        "A+B+C+D+E\n"
      ],
      "execution_count": 0,
      "outputs": [
        {
          "output_type": "execute_result",
          "data": {
            "text/plain": [
              "'The cat in the hat story.'"
            ]
          },
          "metadata": {
            "tags": []
          },
          "execution_count": 37
        }
      ]
    },
    {
      "cell_type": "markdown",
      "metadata": {
        "id": "8EYDz3UtQflV",
        "colab_type": "text"
      },
      "source": [
        "### 1.3 We need to calculate Joey's body mass index. Here's the formula for BMI:  \n",
        "\n",
        ">$\\frac{Weight(kg)}{Height(m)^2} = BMI$  \n",
        "\n",
        "Joey is 1.82 meters tall and weighs 78 kg. Create a variable for his height, weight, and BMI by combining the first two. \n"
      ]
    },
    {
      "cell_type": "code",
      "metadata": {
        "id": "HOf18kjSQjZM",
        "colab_type": "code",
        "outputId": "d508c644-88fa-4903-cf24-f4e3ab8b1097",
        "colab": {
          "base_uri": "https://localhost:8080/",
          "height": 34
        }
      },
      "source": [
        "Weight = 78\n",
        "Height = 1.82\n",
        "BMI = ((Weight)/(Height**2))\n",
        "\n",
        "print (BMI)"
      ],
      "execution_count": 0,
      "outputs": [
        {
          "output_type": "stream",
          "text": [
            "23.54788069073783\n"
          ],
          "name": "stdout"
        }
      ]
    },
    {
      "cell_type": "markdown",
      "metadata": {
        "id": "SV0stA9BUSCn",
        "colab_type": "text"
      },
      "source": [
        "### 1.4 Now calculate Susie's BMI.\n",
        "Susie is 1.63 meters tall and weighs 59 kg. Calculate her BMI by changing the values of the variables you created for Joey. It's easier than creating all new variables, right?"
      ]
    },
    {
      "cell_type": "code",
      "metadata": {
        "id": "FgQ4LB12Uitn",
        "colab_type": "code",
        "outputId": "35f93751-423f-478a-96f0-eafecb54cfae",
        "colab": {
          "base_uri": "https://localhost:8080/",
          "height": 34
        }
      },
      "source": [
        "Weight = 59\n",
        "Height = 1.63\n",
        "BMI = ((Weight)/(Height**2))\n",
        "print (BMI)"
      ],
      "execution_count": 0,
      "outputs": [
        {
          "output_type": "stream",
          "text": [
            "22.20633068613798\n"
          ],
          "name": "stdout"
        }
      ]
    },
    {
      "cell_type": "markdown",
      "metadata": {
        "id": "LvfErOpESot3",
        "colab_type": "text"
      },
      "source": [
        "## Part 2: Data Types"
      ]
    },
    {
      "cell_type": "markdown",
      "metadata": {
        "id": "u5SAr9vDSuCY",
        "colab_type": "text"
      },
      "source": [
        "### 2.1 What is the data type of the following variables?"
      ]
    },
    {
      "cell_type": "code",
      "metadata": {
        "id": "QWyELKj1Sssz",
        "colab_type": "code",
        "outputId": "d59a373a-ec8e-4c91-9737-d4cf4dfb8dbf",
        "colab": {
          "base_uri": "https://localhost:8080/",
          "height": 85
        }
      },
      "source": [
        "a = -91\n",
        "b = 12.0222\n",
        "c = True\n",
        "d = \"Loosey goosey\"\n",
        "print (type(a))\n",
        "print (type(b))\n",
        "print (type(c))\n",
        "print (type(d))"
      ],
      "execution_count": 0,
      "outputs": [
        {
          "output_type": "stream",
          "text": [
            "<class 'int'>\n",
            "<class 'float'>\n",
            "<class 'bool'>\n",
            "<class 'str'>\n"
          ],
          "name": "stdout"
        }
      ]
    },
    {
      "cell_type": "markdown",
      "metadata": {
        "id": "hBIomZKgS9Qw",
        "colab_type": "text"
      },
      "source": [
        "### 2.2 How do strings behave differently than integers or floats?"
      ]
    },
    {
      "cell_type": "markdown",
      "metadata": {
        "id": "RT5d5gOoTFbV",
        "colab_type": "text"
      },
      "source": [
        "*Write your answer below this line*: \n",
        "\n",
        "---\n",
        "\n",
        "Integers have to be whole numbers but floats can be fractions or decimals. Integers can be added together arithmetically. \n",
        "\n",
        "Strings workes with string values and are\n",
        "concatenated (bunched) together. \n"
      ]
    },
    {
      "cell_type": "markdown",
      "metadata": {
        "id": "tXH3HQGWTZ0-",
        "colab_type": "text"
      },
      "source": [
        "### 2.3 Create one variable holding a string and another variable holding a float. Concatenate the two together. "
      ]
    },
    {
      "cell_type": "code",
      "metadata": {
        "id": "Nt_aT0C3S7Yz",
        "colab_type": "code",
        "outputId": "0bfbbb00-7be9-465c-a33f-63646c3d4fa7",
        "colab": {
          "base_uri": "https://localhost:8080/",
          "height": 34
        }
      },
      "source": [
        "M = 'I am creating a string and my favorite float number is '\n",
        "N = 7.5\n",
        "M + str (N)\n",
        "\n"
      ],
      "execution_count": 0,
      "outputs": [
        {
          "output_type": "execute_result",
          "data": {
            "text/plain": [
              "'I am creating a string and my favorite float number is 7.5'"
            ]
          },
          "metadata": {
            "tags": []
          },
          "execution_count": 34
        }
      ]
    },
    {
      "cell_type": "markdown",
      "metadata": {
        "id": "qVG_ZZyfTjyB",
        "colab_type": "text"
      },
      "source": [
        "### Submit your assignment notebook! (Make sure you've changed the name to FIRSTNAME_LASTNAME_1_2): \n",
        "\n",
        "1.  Click the Share button in the upper-right hand corner of the notebook.\n",
        "2.  Get shareable link\n",
        "3.  Set condition to: \"Anyone with the link can comment\"\n",
        "4.  TBD \n",
        "\n",
        "\n"
      ]
    },
    {
      "cell_type": "code",
      "metadata": {
        "id": "dx15vsg9UNcj",
        "colab_type": "code",
        "colab": {}
      },
      "source": [
        ""
      ],
      "execution_count": 0,
      "outputs": []
    }
  ]
}